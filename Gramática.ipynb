{
  "nbformat": 4,
  "nbformat_minor": 0,
  "metadata": {
    "colab": {
      "provenance": [],
      "include_colab_link": true
    },
    "kernelspec": {
      "name": "python3",
      "display_name": "Python 3"
    },
    "language_info": {
      "name": "python"
    }
  },
  "cells": [
    {
      "cell_type": "markdown",
      "metadata": {
        "id": "view-in-github",
        "colab_type": "text"
      },
      "source": [
        "<a href=\"https://colab.research.google.com/github/Antonino-Marques-Jares/Gram-tica/blob/main/Gram%C3%A1tica.ipynb\" target=\"_parent\"><img src=\"https://colab.research.google.com/assets/colab-badge.svg\" alt=\"Open In Colab\"/></a>"
      ]
    },
    {
      "cell_type": "markdown",
      "source": [
        "# Instalação e importação do SDK"
      ],
      "metadata": {
        "id": "KfZBjbSQc_nP"
      }
    },
    {
      "cell_type": "code",
      "execution_count": null,
      "metadata": {
        "id": "phb2t587QTFu"
      },
      "outputs": [],
      "source": [
        "!pip install -q -U google-generativeai\n",
        " # Import the Python SDK\n",
        "import google.generativeai as genai"
      ]
    },
    {
      "cell_type": "markdown",
      "source": [
        "# Ajustes para uso do Markdown"
      ],
      "metadata": {
        "id": "NQ1t0w8Ljrp_"
      }
    },
    {
      "cell_type": "code",
      "source": [
        "import textwrap\n",
        "from IPython.display import display\n",
        "from IPython.display import Markdown\n",
        "\n",
        "def to_markdown(text):\n",
        "  text = text.replace('•',' *')\n",
        "  return Markdown(textwrap.indent(text,'>',predicate=lambda _: True))"
      ],
      "metadata": {
        "id": "gDxFS2VQjwco"
      },
      "execution_count": null,
      "outputs": []
    },
    {
      "cell_type": "markdown",
      "source": [
        "# Apresentando a chave para acesso do geminai"
      ],
      "metadata": {
        "id": "kuQozO-VdjtZ"
      }
    },
    {
      "cell_type": "code",
      "source": [
        "from google.colab import userdata\n",
        "GOOGLE_API_KEY = userdata.get('SECRET_KEY')\n",
        "genai.configure(api_key=GOOGLE_API_KEY)"
      ],
      "metadata": {
        "id": "uEfB_dxJTnyd"
      },
      "execution_count": null,
      "outputs": []
    },
    {
      "cell_type": "markdown",
      "source": [
        "# Listando os modelos do gemini disponíveis"
      ],
      "metadata": {
        "id": "8yDTgKhaYBtm"
      }
    },
    {
      "cell_type": "code",
      "source": [
        "for m in genai.list_models():\n",
        "  if 'generateContent' in m.supported_generation_methods:\n",
        "    print(m.name)"
      ],
      "metadata": {
        "colab": {
          "base_uri": "https://localhost:8080/",
          "height": 139
        },
        "id": "DUrQc_ZGYA1c",
        "outputId": "dcec45ac-a617-4d75-802f-910138e3a9ef"
      },
      "execution_count": null,
      "outputs": [
        {
          "output_type": "stream",
          "name": "stdout",
          "text": [
            "models/gemini-1.0-pro\n",
            "models/gemini-1.0-pro-001\n",
            "models/gemini-1.0-pro-latest\n",
            "models/gemini-1.0-pro-vision-latest\n",
            "models/gemini-1.5-pro-latest\n",
            "models/gemini-pro\n",
            "models/gemini-pro-vision\n"
          ]
        }
      ]
    },
    {
      "cell_type": "markdown",
      "source": [],
      "metadata": {
        "id": "esxm_KiAeRqa"
      }
    },
    {
      "cell_type": "code",
      "source": [
        "model = genai.GenerativeModel('gemini-pro')\n",
        "print(\"Vamos analisar a gramática de algumas frases.\\nEntre qualquer frase, caso queira finalizar, escreva 'fim'.\")\n",
        "entrada = input(\"Entrada: \")\n",
        "while entrada != \"fim\":\n",
        "  p1 = \"Considerando a gramática portuguesa, explique como se classifica gramaticalmente a oração: \"\n",
        "  p2 = entrada\n",
        "  pergunta = p1 + p2\n",
        "  response = model.generate_content(pergunta)\n",
        "  display(to_markdown(p1+'> **'+p2+\"**\"))\n",
        "  resposta = to_markdown(response.text)\n",
        "  display(resposta)\n",
        "  entrada = input(\"Entrada: \")"
      ],
      "metadata": {
        "colab": {
          "base_uri": "https://localhost:8080/",
          "height": 268
        },
        "id": "TZufFeEBh77O",
        "outputId": "9f0b065f-8f60-4b66-c085-564714fcc792"
      },
      "execution_count": null,
      "outputs": [
        {
          "name": "stdout",
          "output_type": "stream",
          "text": [
            "Vamos analisar a gramática de algumas frases.\n",
            "Entre qualquer frase, caso queira finalizar, escreva 'fim'.\n",
            "Entrada: Está chovendo\n"
          ]
        },
        {
          "output_type": "display_data",
          "data": {
            "text/plain": [
              "<IPython.core.display.Markdown object>"
            ],
            "text/markdown": ">Considerando a gramática portuguesa, explique como se classifica gramaticalmente a oração: > **Está chovendo**"
          },
          "metadata": {}
        },
        {
          "output_type": "display_data",
          "data": {
            "text/plain": [
              "<IPython.core.display.Markdown object>"
            ],
            "text/markdown": ">**Oração Impessoal**\n>\n>Uma oração impessoal é uma oração que não tem sujeito determinado ou indeterminado. Ela expressa fenômenos da natureza, estados de espírito ou condições climáticas.\n>\n>Na oração \"Está chovendo\", não há um sujeito específico executando a ação de chover. O verbo \"está chovendo\" é a única parte da oração e indica um estado climático.\n>\n>Portanto, a oração \"Está chovendo\" é classificada como **impessoal**."
          },
          "metadata": {}
        },
        {
          "name": "stdout",
          "output_type": "stream",
          "text": [
            "Entrada: fim\n"
          ]
        }
      ]
    },
    {
      "cell_type": "code",
      "source": [],
      "metadata": {
        "id": "PLkwcTXfVLh4"
      },
      "execution_count": null,
      "outputs": []
    }
  ]
}